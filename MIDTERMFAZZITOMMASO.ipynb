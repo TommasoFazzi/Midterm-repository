{
 "cells": [
  {
   "cell_type": "code",
   "execution_count": 1,
   "id": "3b34e4b9-fc4e-4d26-aaa7-41e5efdcedfd",
   "metadata": {},
   "outputs": [],
   "source": [
    "import pandas as pd"
   ]
  },
  {
   "cell_type": "code",
   "execution_count": 9,
   "id": "0486d54b-1d9c-46ff-93c6-2ecf0a3dffea",
   "metadata": {},
   "outputs": [],
   "source": [
    "ACN_csv = pd.read_csv('ACN.csv')"
   ]
  },
  {
   "cell_type": "code",
   "execution_count": 11,
   "id": "7f18d5b4-6199-4b3f-a6ba-1b6232b0de07",
   "metadata": {},
   "outputs": [
    {
     "data": {
      "text/html": [
       "<div>\n",
       "<style scoped>\n",
       "    .dataframe tbody tr th:only-of-type {\n",
       "        vertical-align: middle;\n",
       "    }\n",
       "\n",
       "    .dataframe tbody tr th {\n",
       "        vertical-align: top;\n",
       "    }\n",
       "\n",
       "    .dataframe thead th {\n",
       "        text-align: right;\n",
       "    }\n",
       "</style>\n",
       "<table border=\"1\" class=\"dataframe\">\n",
       "  <thead>\n",
       "    <tr style=\"text-align: right;\">\n",
       "      <th></th>\n",
       "      <th>Date</th>\n",
       "      <th>Open</th>\n",
       "      <th>High</th>\n",
       "      <th>Low</th>\n",
       "      <th>Close</th>\n",
       "      <th>Volume</th>\n",
       "      <th>Dividends</th>\n",
       "      <th>Stock Splits</th>\n",
       "    </tr>\n",
       "  </thead>\n",
       "  <tbody>\n",
       "    <tr>\n",
       "      <th>0</th>\n",
       "      <td>2017-01-03</td>\n",
       "      <td>103.707</td>\n",
       "      <td>104.086</td>\n",
       "      <td>102.328</td>\n",
       "      <td>102.894</td>\n",
       "      <td>2351600</td>\n",
       "      <td>0.0</td>\n",
       "      <td>0.0</td>\n",
       "    </tr>\n",
       "    <tr>\n",
       "      <th>1</th>\n",
       "      <td>2017-01-04</td>\n",
       "      <td>103.291</td>\n",
       "      <td>104.078</td>\n",
       "      <td>102.867</td>\n",
       "      <td>103.141</td>\n",
       "      <td>2639800</td>\n",
       "      <td>0.0</td>\n",
       "      <td>0.0</td>\n",
       "    </tr>\n",
       "    <tr>\n",
       "      <th>2</th>\n",
       "      <td>2017-01-05</td>\n",
       "      <td>103.353</td>\n",
       "      <td>103.495</td>\n",
       "      <td>101.560</td>\n",
       "      <td>101.595</td>\n",
       "      <td>3685400</td>\n",
       "      <td>0.0</td>\n",
       "      <td>0.0</td>\n",
       "    </tr>\n",
       "    <tr>\n",
       "      <th>3</th>\n",
       "      <td>2017-01-06</td>\n",
       "      <td>101.595</td>\n",
       "      <td>103.141</td>\n",
       "      <td>101.021</td>\n",
       "      <td>102.752</td>\n",
       "      <td>4125300</td>\n",
       "      <td>0.0</td>\n",
       "      <td>0.0</td>\n",
       "    </tr>\n",
       "    <tr>\n",
       "      <th>4</th>\n",
       "      <td>2017-01-09</td>\n",
       "      <td>102.611</td>\n",
       "      <td>102.797</td>\n",
       "      <td>101.533</td>\n",
       "      <td>101.604</td>\n",
       "      <td>2550800</td>\n",
       "      <td>0.0</td>\n",
       "      <td>0.0</td>\n",
       "    </tr>\n",
       "  </tbody>\n",
       "</table>\n",
       "</div>"
      ],
      "text/plain": [
       "         Date     Open     High      Low    Close   Volume  Dividends  \\\n",
       "0  2017-01-03  103.707  104.086  102.328  102.894  2351600        0.0   \n",
       "1  2017-01-04  103.291  104.078  102.867  103.141  2639800        0.0   \n",
       "2  2017-01-05  103.353  103.495  101.560  101.595  3685400        0.0   \n",
       "3  2017-01-06  101.595  103.141  101.021  102.752  4125300        0.0   \n",
       "4  2017-01-09  102.611  102.797  101.533  101.604  2550800        0.0   \n",
       "\n",
       "   Stock Splits  \n",
       "0           0.0  \n",
       "1           0.0  \n",
       "2           0.0  \n",
       "3           0.0  \n",
       "4           0.0  "
      ]
     },
     "execution_count": 11,
     "metadata": {},
     "output_type": "execute_result"
    }
   ],
   "source": [
    "ACN_csv.head()"
   ]
  },
  {
   "cell_type": "code",
   "execution_count": 15,
   "id": "76870312-62b7-4963-acf1-3561c9713c83",
   "metadata": {},
   "outputs": [],
   "source": [
    "BXP_csv = pd.read_csv(\"BXP.csv\")"
   ]
  },
  {
   "cell_type": "code",
   "execution_count": 16,
   "id": "83206593-c7e3-4b94-817f-aca1059b40aa",
   "metadata": {},
   "outputs": [],
   "source": [
    "NOW_csv = pd.read_csv(\"NOW.csv\")"
   ]
  },
  {
   "cell_type": "code",
   "execution_count": 17,
   "id": "9ed99a4a-77a8-471c-bdb2-c6c592473215",
   "metadata": {},
   "outputs": [],
   "source": [
    "VNO_csv = pd.read_csv(\"VNO.csv\")"
   ]
  },
  {
   "cell_type": "code",
   "execution_count": 31,
   "id": "d02e83f7-f473-4c6b-9b94-20cbcead8d47",
   "metadata": {},
   "outputs": [],
   "source": [
    "XEL_csv = pd.read_csv(\"XEL.csv\")"
   ]
  },
  {
   "cell_type": "code",
   "execution_count": 19,
   "id": "6487d393-191e-46e6-b38f-f3f43c35017f",
   "metadata": {},
   "outputs": [
    {
     "data": {
      "text/html": [
       "<div>\n",
       "<style scoped>\n",
       "    .dataframe tbody tr th:only-of-type {\n",
       "        vertical-align: middle;\n",
       "    }\n",
       "\n",
       "    .dataframe tbody tr th {\n",
       "        vertical-align: top;\n",
       "    }\n",
       "\n",
       "    .dataframe thead th {\n",
       "        text-align: right;\n",
       "    }\n",
       "</style>\n",
       "<table border=\"1\" class=\"dataframe\">\n",
       "  <thead>\n",
       "    <tr style=\"text-align: right;\">\n",
       "      <th></th>\n",
       "      <th>Date</th>\n",
       "      <th>Open</th>\n",
       "      <th>High</th>\n",
       "      <th>Low</th>\n",
       "      <th>Close</th>\n",
       "      <th>Volume</th>\n",
       "      <th>Dividends</th>\n",
       "      <th>Stock Splits</th>\n",
       "    </tr>\n",
       "  </thead>\n",
       "  <tbody>\n",
       "    <tr>\n",
       "      <th>0</th>\n",
       "      <td>2017-01-03</td>\n",
       "      <td>92.814</td>\n",
       "      <td>92.981</td>\n",
       "      <td>91.571</td>\n",
       "      <td>92.436</td>\n",
       "      <td>813900</td>\n",
       "      <td>0.0</td>\n",
       "      <td>0.0</td>\n",
       "    </tr>\n",
       "    <tr>\n",
       "      <th>1</th>\n",
       "      <td>2017-01-04</td>\n",
       "      <td>92.785</td>\n",
       "      <td>95.656</td>\n",
       "      <td>92.465</td>\n",
       "      <td>95.372</td>\n",
       "      <td>1323500</td>\n",
       "      <td>0.0</td>\n",
       "      <td>0.0</td>\n",
       "    </tr>\n",
       "    <tr>\n",
       "      <th>2</th>\n",
       "      <td>2017-01-05</td>\n",
       "      <td>94.631</td>\n",
       "      <td>96.339</td>\n",
       "      <td>93.584</td>\n",
       "      <td>95.830</td>\n",
       "      <td>1403000</td>\n",
       "      <td>0.0</td>\n",
       "      <td>0.0</td>\n",
       "    </tr>\n",
       "    <tr>\n",
       "      <th>3</th>\n",
       "      <td>2017-01-06</td>\n",
       "      <td>95.641</td>\n",
       "      <td>96.310</td>\n",
       "      <td>95.365</td>\n",
       "      <td>95.612</td>\n",
       "      <td>757500</td>\n",
       "      <td>0.0</td>\n",
       "      <td>0.0</td>\n",
       "    </tr>\n",
       "    <tr>\n",
       "      <th>4</th>\n",
       "      <td>2017-01-09</td>\n",
       "      <td>95.256</td>\n",
       "      <td>95.503</td>\n",
       "      <td>94.456</td>\n",
       "      <td>94.660</td>\n",
       "      <td>818800</td>\n",
       "      <td>0.0</td>\n",
       "      <td>0.0</td>\n",
       "    </tr>\n",
       "  </tbody>\n",
       "</table>\n",
       "</div>"
      ],
      "text/plain": [
       "         Date    Open    High     Low   Close   Volume  Dividends  \\\n",
       "0  2017-01-03  92.814  92.981  91.571  92.436   813900        0.0   \n",
       "1  2017-01-04  92.785  95.656  92.465  95.372  1323500        0.0   \n",
       "2  2017-01-05  94.631  96.339  93.584  95.830  1403000        0.0   \n",
       "3  2017-01-06  95.641  96.310  95.365  95.612   757500        0.0   \n",
       "4  2017-01-09  95.256  95.503  94.456  94.660   818800        0.0   \n",
       "\n",
       "   Stock Splits  \n",
       "0           0.0  \n",
       "1           0.0  \n",
       "2           0.0  \n",
       "3           0.0  \n",
       "4           0.0  "
      ]
     },
     "execution_count": 19,
     "metadata": {},
     "output_type": "execute_result"
    }
   ],
   "source": [
    "BXP_csv.head()"
   ]
  },
  {
   "cell_type": "code",
   "execution_count": 32,
   "id": "b4d80593-9b56-4a7b-8199-052a3e20ce59",
   "metadata": {},
   "outputs": [
    {
     "data": {
      "text/html": [
       "<div>\n",
       "<style scoped>\n",
       "    .dataframe tbody tr th:only-of-type {\n",
       "        vertical-align: middle;\n",
       "    }\n",
       "\n",
       "    .dataframe tbody tr th {\n",
       "        vertical-align: top;\n",
       "    }\n",
       "\n",
       "    .dataframe thead th {\n",
       "        text-align: right;\n",
       "    }\n",
       "</style>\n",
       "<table border=\"1\" class=\"dataframe\">\n",
       "  <thead>\n",
       "    <tr style=\"text-align: right;\">\n",
       "      <th></th>\n",
       "      <th>Date</th>\n",
       "      <th>Open</th>\n",
       "      <th>High</th>\n",
       "      <th>Low</th>\n",
       "      <th>Close</th>\n",
       "      <th>Volume</th>\n",
       "      <th>Dividends</th>\n",
       "      <th>Stock Splits</th>\n",
       "    </tr>\n",
       "  </thead>\n",
       "  <tbody>\n",
       "    <tr>\n",
       "      <th>0</th>\n",
       "      <td>2017-01-03</td>\n",
       "      <td>32.198</td>\n",
       "      <td>32.269</td>\n",
       "      <td>31.866</td>\n",
       "      <td>32.103</td>\n",
       "      <td>2065100</td>\n",
       "      <td>0.0</td>\n",
       "      <td>0.0</td>\n",
       "    </tr>\n",
       "    <tr>\n",
       "      <th>1</th>\n",
       "      <td>2017-01-04</td>\n",
       "      <td>32.174</td>\n",
       "      <td>32.388</td>\n",
       "      <td>32.087</td>\n",
       "      <td>32.245</td>\n",
       "      <td>2542600</td>\n",
       "      <td>0.0</td>\n",
       "      <td>0.0</td>\n",
       "    </tr>\n",
       "    <tr>\n",
       "      <th>2</th>\n",
       "      <td>2017-01-05</td>\n",
       "      <td>32.301</td>\n",
       "      <td>32.396</td>\n",
       "      <td>31.993</td>\n",
       "      <td>32.245</td>\n",
       "      <td>2611900</td>\n",
       "      <td>0.0</td>\n",
       "      <td>0.0</td>\n",
       "    </tr>\n",
       "    <tr>\n",
       "      <th>3</th>\n",
       "      <td>2017-01-06</td>\n",
       "      <td>32.119</td>\n",
       "      <td>32.451</td>\n",
       "      <td>32.095</td>\n",
       "      <td>32.340</td>\n",
       "      <td>1707400</td>\n",
       "      <td>0.0</td>\n",
       "      <td>0.0</td>\n",
       "    </tr>\n",
       "    <tr>\n",
       "      <th>4</th>\n",
       "      <td>2017-01-09</td>\n",
       "      <td>32.506</td>\n",
       "      <td>32.538</td>\n",
       "      <td>31.827</td>\n",
       "      <td>31.850</td>\n",
       "      <td>1840100</td>\n",
       "      <td>0.0</td>\n",
       "      <td>0.0</td>\n",
       "    </tr>\n",
       "  </tbody>\n",
       "</table>\n",
       "</div>"
      ],
      "text/plain": [
       "         Date    Open    High     Low   Close   Volume  Dividends  \\\n",
       "0  2017-01-03  32.198  32.269  31.866  32.103  2065100        0.0   \n",
       "1  2017-01-04  32.174  32.388  32.087  32.245  2542600        0.0   \n",
       "2  2017-01-05  32.301  32.396  31.993  32.245  2611900        0.0   \n",
       "3  2017-01-06  32.119  32.451  32.095  32.340  1707400        0.0   \n",
       "4  2017-01-09  32.506  32.538  31.827  31.850  1840100        0.0   \n",
       "\n",
       "   Stock Splits  \n",
       "0           0.0  \n",
       "1           0.0  \n",
       "2           0.0  \n",
       "3           0.0  \n",
       "4           0.0  "
      ]
     },
     "execution_count": 32,
     "metadata": {},
     "output_type": "execute_result"
    }
   ],
   "source": [
    "XEL_csv.head()"
   ]
  },
  {
   "cell_type": "code",
   "execution_count": 33,
   "id": "ed737037-e016-4dc8-8b23-19bf1870c05b",
   "metadata": {},
   "outputs": [
    {
     "data": {
      "text/plain": [
       "np.float64(31.842)"
      ]
     },
     "execution_count": 33,
     "metadata": {},
     "output_type": "execute_result"
    }
   ],
   "source": [
    "columnclose_XEL = XEL_csv[\"Close\"]\n",
    "columnclose_XEL.min()\n"
   ]
  },
  {
   "cell_type": "code",
   "execution_count": 29,
   "id": "14ac1e87-ae84-4a9d-83b6-a86645988613",
   "metadata": {},
   "outputs": [
    {
     "data": {
      "text/plain": [
       "np.float64(71.713)"
      ]
     },
     "execution_count": 29,
     "metadata": {},
     "output_type": "execute_result"
    }
   ],
   "source": [
    "columnclose_XEL.max()"
   ]
  },
  {
   "cell_type": "code",
   "execution_count": 34,
   "id": "7f641b3a-0a5a-4d64-be04-2eb1c3cc9321",
   "metadata": {},
   "outputs": [
    {
     "data": {
      "text/plain": [
       "np.float64(57.307)"
      ]
     },
     "execution_count": 34,
     "metadata": {},
     "output_type": "execute_result"
    }
   ],
   "source": [
    "columnclose_BXP = BXP_csv[\"Close\"]\n",
    "columnclose_BXP.min()"
   ]
  },
  {
   "cell_type": "code",
   "execution_count": 35,
   "id": "a36ddb49-2281-40c2-97b9-719b59b261b6",
   "metadata": {},
   "outputs": [
    {
     "data": {
      "text/plain": [
       "np.float64(116.436)"
      ]
     },
     "execution_count": 35,
     "metadata": {},
     "output_type": "execute_result"
    }
   ],
   "source": [
    "columnclose_BXP.max()"
   ]
  },
  {
   "cell_type": "code",
   "execution_count": 36,
   "id": "121a04fc-8763-42a5-b00b-d4875074531c",
   "metadata": {},
   "outputs": [
    {
     "data": {
      "text/plain": [
       "np.float64(100.022)"
      ]
     },
     "execution_count": 36,
     "metadata": {},
     "output_type": "execute_result"
    }
   ],
   "source": [
    "columnclose_ACN = ACN_csv[\"Close\"]\n",
    "columnclose_ACN.min()"
   ]
  },
  {
   "cell_type": "code",
   "execution_count": 37,
   "id": "059d9b6e-831e-4065-99f3-82825f927781",
   "metadata": {},
   "outputs": [
    {
     "data": {
      "text/plain": [
       "np.float64(397.037)"
      ]
     },
     "execution_count": 37,
     "metadata": {},
     "output_type": "execute_result"
    }
   ],
   "source": [
    "columnclose_ACN.max()"
   ]
  },
  {
   "cell_type": "code",
   "execution_count": 40,
   "id": "e3d1793c-068c-488d-8a98-b5f22de68a59",
   "metadata": {},
   "outputs": [
    {
     "data": {
      "text/plain": [
       "np.float64(75.66)"
      ]
     },
     "execution_count": 40,
     "metadata": {},
     "output_type": "execute_result"
    }
   ],
   "source": [
    "columnclose_NOW = NOW_csv[\"Close\"]\n",
    "columnclose_NOW.min()"
   ]
  },
  {
   "cell_type": "code",
   "execution_count": 41,
   "id": "1df3587d-ae7c-416e-9c76-b036d0abaa6c",
   "metadata": {},
   "outputs": [
    {
     "data": {
      "text/plain": [
       "np.float64(701.73)"
      ]
     },
     "execution_count": 41,
     "metadata": {},
     "output_type": "execute_result"
    }
   ],
   "source": [
    "columnclose_NOW.max()"
   ]
  },
  {
   "cell_type": "code",
   "execution_count": 43,
   "id": "8a6efc68-69f2-4f68-8d68-9a01a5346e7c",
   "metadata": {},
   "outputs": [
    {
     "data": {
      "text/plain": [
       "np.float64(20.042)"
      ]
     },
     "execution_count": 43,
     "metadata": {},
     "output_type": "execute_result"
    }
   ],
   "source": [
    "columnclose_VNO = VNO_csv[\"Close\"]\n",
    "columnclose_VNO.min()"
   ]
  },
  {
   "cell_type": "code",
   "execution_count": 44,
   "id": "8586cdba-9d70-489e-9b13-d2a7e508e921",
   "metadata": {},
   "outputs": [
    {
     "data": {
      "text/plain": [
       "np.float64(64.11)"
      ]
     },
     "execution_count": 44,
     "metadata": {},
     "output_type": "execute_result"
    }
   ],
   "source": [
    "columnclose_VNO.max()"
   ]
  },
  {
   "cell_type": "code",
   "execution_count": 46,
   "id": "2ca7bc1a-db34-4d6e-8887-212c5e74ed57",
   "metadata": {},
   "outputs": [
    {
     "name": "stdout",
     "output_type": "stream",
     "text": [
      "False\n"
     ]
    }
   ],
   "source": [
    "are_equal = (ACN_csv[\"Close\"] == ACN_csv[\"Open\"]).all()\n",
    "print(are_equal)"
   ]
  },
  {
   "cell_type": "code",
   "execution_count": 47,
   "id": "4ce50a3d-64f7-47b0-b982-cb8f804c8c26",
   "metadata": {},
   "outputs": [
    {
     "name": "stdout",
     "output_type": "stream",
     "text": [
      "False\n"
     ]
    }
   ],
   "source": [
    "are_equal = (BXP_csv[\"Close\"] == BXP_csv[\"Open\"]).all()\n",
    "print(are_equal)"
   ]
  },
  {
   "cell_type": "code",
   "execution_count": 48,
   "id": "e8a7c441-1a94-4fd9-b72a-f0c4a980c756",
   "metadata": {},
   "outputs": [
    {
     "name": "stdout",
     "output_type": "stream",
     "text": [
      "False\n"
     ]
    }
   ],
   "source": [
    "are_equal = (NOW_csv[\"Close\"] == NOW_csv[\"Open\"]).all()\n",
    "print(are_equal)"
   ]
  },
  {
   "cell_type": "code",
   "execution_count": 49,
   "id": "939db344-2fc8-4588-ac51-36a92a9e0763",
   "metadata": {},
   "outputs": [
    {
     "name": "stdout",
     "output_type": "stream",
     "text": [
      "False\n"
     ]
    }
   ],
   "source": [
    "are_equal = (VNO_csv[\"Close\"] == VNO_csv[\"Open\"]).all()\n",
    "print(are_equal)"
   ]
  },
  {
   "cell_type": "code",
   "execution_count": 50,
   "id": "1f530fb9-f66f-4819-939c-66cf164d43d8",
   "metadata": {},
   "outputs": [
    {
     "name": "stdout",
     "output_type": "stream",
     "text": [
      "False\n"
     ]
    }
   ],
   "source": [
    "are_equal = (XEL_csv[\"Close\"] == XEL_csv[\"Open\"]).all()\n",
    "print(are_equal)"
   ]
  },
  {
   "cell_type": "code",
   "execution_count": 51,
   "id": "af08143d-c845-4f80-938a-b1a77e71c095",
   "metadata": {},
   "outputs": [],
   "source": [
    "import numpy as np"
   ]
  },
  {
   "cell_type": "code",
   "execution_count": 59,
   "id": "6469b723-528c-442d-81c0-4b6ee962db7d",
   "metadata": {},
   "outputs": [
    {
     "name": "stdout",
     "output_type": "stream",
     "text": [
      "0            NaN\n",
      "1       0.002398\n",
      "2      -0.015103\n",
      "3       0.011324\n",
      "4      -0.011235\n",
      "          ...   \n",
      "1505    0.005013\n",
      "1506   -0.002937\n",
      "1507   -0.008290\n",
      "1508    0.019794\n",
      "1509   -0.005755\n",
      "Name: Close, Length: 1510, dtype: float64\n",
      "-0.08763143183077308\n",
      "0.12095180593145433\n",
      "0.0013930038810569983\n",
      "0.0006104962982985718\n"
     ]
    }
   ],
   "source": [
    "ACN_returnslog = np.log(ACN_csv['Close'] / ACN_csv['Close'].shift(1))\n",
    "print(ACN_returnslog)\n",
    "min_val_ACNreturns = ACN_returnslog.min()\n",
    "max_val_ACNreturns = ACN_returnslog.max()\n",
    "median_val_ACNreturns = ACN_returnslog.median()\n",
    "mean_val_ACNreturns = ACN_returnslog.mean()\n",
    "print(min_val_ACNreturns)\n",
    "print(max_val_ACNreturns)\n",
    "print(median_val_ACNreturns)\n",
    "print(mean_val_ACNreturns)\n"
   ]
  },
  {
   "cell_type": "code",
   "execution_count": 60,
   "id": "e817ae41-6f9e-4d2e-a98c-ad3b5c0bfdb2",
   "metadata": {},
   "outputs": [
    {
     "name": "stdout",
     "output_type": "stream",
     "text": [
      "0            NaN\n",
      "1       0.002398\n",
      "2      -0.015103\n",
      "3       0.011324\n",
      "4      -0.011235\n",
      "          ...   \n",
      "1505    0.005013\n",
      "1506   -0.002937\n",
      "1507   -0.008290\n",
      "1508    0.019794\n",
      "1509   -0.005755\n",
      "Name: Close, Length: 1510, dtype: float64\n",
      "-0.18869245730238862\n",
      "0.18998680708560495\n",
      "0.00045496158578769145\n",
      "-0.00028117061409061594\n"
     ]
    }
   ],
   "source": [
    "BXP_returnslog = np.log(BXP_csv['Close'] / BXP_csv['Close'].shift(1))\n",
    "print(ACN_returnslog)\n",
    "min_val_BXPreturns = BXP_returnslog.min()\n",
    "max_val_BXPreturns = BXP_returnslog.max()\n",
    "median_val_BXPreturns = BXP_returnslog.median()\n",
    "mean_val_BXPreturns = BXP_returnslog.mean()\n",
    "print(min_val_BXPreturns)\n",
    "print(max_val_BXPreturns)\n",
    "print(median_val_BXPreturns)\n",
    "print(mean_val_BXPreturns)"
   ]
  },
  {
   "cell_type": "code",
   "execution_count": 61,
   "id": "c7511700-1024-4ca9-bf3c-0e7ab331d40e",
   "metadata": {},
   "outputs": [
    {
     "name": "stdout",
     "output_type": "stream",
     "text": [
      "0            NaN\n",
      "1       0.002398\n",
      "2      -0.015103\n",
      "3       0.011324\n",
      "4      -0.011235\n",
      "          ...   \n",
      "1505    0.005013\n",
      "1506   -0.002937\n",
      "1507   -0.008290\n",
      "1508    0.019794\n",
      "1509   -0.005755\n",
      "Name: Close, Length: 1510, dtype: float64\n",
      "-0.13623838578319677\n",
      "0.1261387512220047\n",
      "0.0018905189581873893\n",
      "0.0010837981144449394\n"
     ]
    }
   ],
   "source": [
    "NOW_returnslog = np.log(NOW_csv['Close'] / NOW_csv['Close'].shift(1))\n",
    "print(ACN_returnslog)\n",
    "min_val_NOWreturns = NOW_returnslog.min()\n",
    "max_val_NOWreturns = NOW_returnslog.max()\n",
    "median_val_NOWreturns = NOW_returnslog.median()\n",
    "mean_val_NOWreturns = NOW_returnslog.mean()\n",
    "print(min_val_NOWreturns)\n",
    "print(max_val_NOWreturns)\n",
    "print(median_val_NOWreturns)\n",
    "print(mean_val_NOWreturns)"
   ]
  },
  {
   "cell_type": "code",
   "execution_count": 62,
   "id": "1f3f42da-5782-4f05-9024-6b7d3063cdb8",
   "metadata": {},
   "outputs": [
    {
     "name": "stdout",
     "output_type": "stream",
     "text": [
      "0            NaN\n",
      "1       0.002398\n",
      "2      -0.015103\n",
      "3       0.011324\n",
      "4      -0.011235\n",
      "          ...   \n",
      "1505    0.005013\n",
      "1506   -0.002937\n",
      "1507   -0.008290\n",
      "1508    0.019794\n",
      "1509   -0.005755\n",
      "Name: Close, Length: 1510, dtype: float64\n",
      "-0.2784432037632497\n",
      "0.12095180593145433\n",
      "-0.00015352139734612928\n",
      "-0.0007216275641733478\n"
     ]
    }
   ],
   "source": [
    "VNO_returnslog = np.log(VNO_csv['Close'] / VNO_csv['Close'].shift(1))\n",
    "print(ACN_returnslog)\n",
    "min_val_VNOreturns = VNO_returnslog.min()\n",
    "max_val_VNOreturns = VNO_returnslog.max()\n",
    "median_val_VNOreturns = VNO_returnslog.median()\n",
    "mean_val_VNOreturns = VNO_returnslog.mean()\n",
    "print(min_val_VNOreturns)\n",
    "print(max_val_ACNreturns)\n",
    "print(median_val_VNOreturns)\n",
    "print(mean_val_VNOreturns)"
   ]
  },
  {
   "cell_type": "code",
   "execution_count": 63,
   "id": "3201aa3a-6124-44a9-9161-e00c6d62e666",
   "metadata": {},
   "outputs": [
    {
     "name": "stdout",
     "output_type": "stream",
     "text": [
      "0            NaN\n",
      "1       0.004414\n",
      "2       0.000000\n",
      "3       0.002942\n",
      "4      -0.015267\n",
      "          ...   \n",
      "1505    0.012767\n",
      "1506    0.008986\n",
      "1507   -0.007234\n",
      "1508    0.007069\n",
      "1509   -0.013595\n",
      "Name: Close, Length: 1510, dtype: float64\n",
      "-0.13571373969682318\n",
      "0.10667337280394802\n",
      "0.000835574636703479\n",
      "0.00047583500977970295\n"
     ]
    }
   ],
   "source": [
    "XEL_returnslog = np.log(XEL_csv['Close'] / XEL_csv['Close'].shift(1))\n",
    "print(XEL_returnslog)\n",
    "min_val_XELreturns = XEL_returnslog.min()\n",
    "max_val_XELreturns = XEL_returnslog.max()\n",
    "median_val_XELreturns = XEL_returnslog.median()\n",
    "mean_val_XELreturns = XEL_returnslog.mean()\n",
    "print(min_val_XELreturns)\n",
    "print(max_val_XELreturns)\n",
    "print(median_val_XELreturns)\n",
    "print(mean_val_XELreturns)"
   ]
  },
  {
   "cell_type": "code",
   "execution_count": 68,
   "id": "03eff704-91b1-4ae7-871f-691ef6f5c3c0",
   "metadata": {},
   "outputs": [
    {
     "name": "stdout",
     "output_type": "stream",
     "text": [
      "max gain log: 0.12095180593145433 il giorno 2020-03-26\n",
      "maxloss log: -0.08763143183077308 il giorno 2020-03-16\n"
     ]
    }
   ],
   "source": [
    "max_gain_index_ACN = ACN_returnslog.idxmax()\n",
    "max_loss_index_ACN = ACN_returnslog.idxmin()\n",
    "max_gain_date_ACN = ACN_csv.loc[max_gain_index_ACN, 'Date']\n",
    "max_gain_value_ACN = ACN_returnslog.loc[max_gain_index_ACN]\n",
    "max_loss_date_ACN = ACN_csv.loc[max_loss_index_ACN, 'Date']\n",
    "max_loss_value_ACN = ACN_returnslog.loc[max_loss_index_ACN]\n",
    "print(f\"max gain log: {max_gain_value_ACN} il giorno {max_gain_date_ACN}\")\n",
    "print(f\"maxloss log: {max_loss_value_ACN} il giorno {max_loss_date_ACN}\")"
   ]
  },
  {
   "cell_type": "code",
   "execution_count": 69,
   "id": "81282aa8-cc3d-4ea2-8cce-054b5826acce",
   "metadata": {},
   "outputs": [
    {
     "name": "stdout",
     "output_type": "stream",
     "text": [
      "max gain log: 0.18998680708560495 il giorno 2020-11-09\n",
      "maxloss log: -0.18869245730238862 il giorno 2020-03-16\n"
     ]
    }
   ],
   "source": [
    "max_gain_index_BXP = BXP_returnslog.idxmax()\n",
    "max_loss_index_BXP = BXP_returnslog.idxmin()\n",
    "max_gain_date_BXP = BXP_csv.loc[max_gain_index_BXP, 'Date']\n",
    "max_gain_value_BXP = BXP_returnslog.loc[max_gain_index_BXP]\n",
    "max_loss_date_BXP = BXP_csv.loc[max_loss_index_BXP, 'Date']\n",
    "max_loss_value_BXP = BXP_returnslog.loc[max_loss_index_BXP]\n",
    "print(f\"max gain log: {max_gain_value_BXP} il giorno {max_gain_date_BXP}\")\n",
    "print(f\"maxloss log: {max_loss_value_BXP} il giorno {max_loss_date_BXP}\")"
   ]
  },
  {
   "cell_type": "code",
   "execution_count": null,
   "id": "5de75c1a-a21b-4a59-98ae-d53fbe80e7f2",
   "metadata": {},
   "outputs": [],
   "source": []
  }
 ],
 "metadata": {
  "kernelspec": {
   "display_name": "Python 3 (ipykernel)",
   "language": "python",
   "name": "python3"
  },
  "language_info": {
   "codemirror_mode": {
    "name": "ipython",
    "version": 3
   },
   "file_extension": ".py",
   "mimetype": "text/x-python",
   "name": "python",
   "nbconvert_exporter": "python",
   "pygments_lexer": "ipython3",
   "version": "3.12.3"
  }
 },
 "nbformat": 4,
 "nbformat_minor": 5
}
